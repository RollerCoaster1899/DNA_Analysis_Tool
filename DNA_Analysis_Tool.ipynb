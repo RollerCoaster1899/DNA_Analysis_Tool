{
 "cells": [
  {
   "cell_type": "markdown",
   "id": "f81992f9-8b96-4fca-8707-9491007a0f17",
   "metadata": {},
   "source": [
    "# DNA Analysis Tool"
   ]
  },
  {
   "cell_type": "code",
   "execution_count": 1,
   "id": "44c82fc3-11fd-4754-9204-c521338c659c",
   "metadata": {},
   "outputs": [],
   "source": [
    "def count_nucleotides(sequence):\n",
    "    nucleotide_count = {'A': 0, 'C': 0, 'G': 0, 'T': 0}\n",
    "    for nucleotide in sequence:\n",
    "        nucleotide_count[nucleotide] += 1\n",
    "    return nucleotide_count\n",
    "\n",
    "def calculate_gc_content(sequence):\n",
    "    gc_count = sequence.count('G') + sequence.count('C')\n",
    "    gc_content = (gc_count / len(sequence)) * 100\n",
    "    return gc_content\n",
    "\n",
    "def find_reverse_complement(sequence):\n",
    "    complement = {'A': 'T', 'C': 'G', 'G': 'C', 'T': 'A'}\n",
    "    reverse_complement = ''.join(complement[base] for base in sequence[::-1])\n",
    "    return reverse_complement"
   ]
  },
  {
   "cell_type": "code",
   "execution_count": 2,
   "id": "738c139b-6046-4314-a9d1-9c88da22e388",
   "metadata": {},
   "outputs": [
    {
     "name": "stdout",
     "output_type": "stream",
     "text": [
      "Nucleotide Count: {'A': 3, 'C': 3, 'G': 3, 'T': 3}\n",
      "GC Content: 50.0\n",
      "Reverse Complement: AGCTTACGGCAT\n"
     ]
    }
   ],
   "source": [
    "# Example usage\n",
    "dna_sequence = 'ATGCCGTAAGCT'\n",
    "nucleotide_count = count_nucleotides(dna_sequence)\n",
    "print('Nucleotide Count:', nucleotide_count)\n",
    "\n",
    "gc_content = calculate_gc_content(dna_sequence)\n",
    "print('GC Content:', gc_content)\n",
    "\n",
    "reverse_complement = find_reverse_complement(dna_sequence)\n",
    "print('Reverse Complement:', reverse_complement)"
   ]
  }
 ],
 "metadata": {
  "kernelspec": {
   "display_name": "Python 3 (ipykernel)",
   "language": "python",
   "name": "python3"
  },
  "language_info": {
   "codemirror_mode": {
    "name": "ipython",
    "version": 3
   },
   "file_extension": ".py",
   "mimetype": "text/x-python",
   "name": "python",
   "nbconvert_exporter": "python",
   "pygments_lexer": "ipython3",
   "version": "3.10.9"
  }
 },
 "nbformat": 4,
 "nbformat_minor": 5
}
